{
  "nbformat": 4,
  "nbformat_minor": 0,
  "metadata": {
    "colab": {
      "provenance": [],
      "authorship_tag": "ABX9TyOPSyOQgeLHMX0HgW/Q+on6",
      "include_colab_link": true
    },
    "kernelspec": {
      "name": "python3",
      "display_name": "Python 3"
    },
    "language_info": {
      "name": "python"
    }
  },
  "cells": [
    {
      "cell_type": "markdown",
      "metadata": {
        "id": "view-in-github",
        "colab_type": "text"
      },
      "source": [
        "<a href=\"https://colab.research.google.com/github/Erundule/algoritmo_genetico/blob/main/algoritmo_genetico.ipynb\" target=\"_parent\"><img src=\"https://colab.research.google.com/assets/colab-badge.svg\" alt=\"Open In Colab\"/></a>"
      ]
    },
    {
      "cell_type": "code",
      "execution_count": 1,
      "metadata": {
        "id": "NMn50wQIS0X7"
      },
      "outputs": [],
      "source": [
        "#importação das bibliotecas necessárias\n",
        "import random\n",
        "import math\n",
        "import numpy as np"
      ]
    },
    {
      "cell_type": "code",
      "source": [
        "#Definição das funções de teste\n",
        "def sphere(vetor):\n",
        "  resultado = 0\n",
        "\n",
        "  for i in vetor:\n",
        "    resultado += i**2\n",
        "\n",
        "  return resultado\n",
        "\n",
        "def rastrigin(vetor):\n",
        "  resultado = 0\n",
        "\n",
        "  for i in vetor:\n",
        "    numero = 2*3.1415*i\n",
        "    p = (numero/180)*math.pi\n",
        "    resultado+= (i**2) - (10 * math.cos(p)) + 10\n",
        "\n",
        "  return resultado\n",
        "\n",
        "def rosenbrock(vetor):\n",
        "  resultado = 0\n",
        "\n",
        "  for i in range(0,(len(vetor)-1)):\n",
        "    resultado += 100*(vetor[i+1] - vetor[i]**2)**2 + (vetor[i] - 1)**2\n",
        "\n",
        "  return resultado"
      ],
      "metadata": {
        "id": "CU-LOoI2yp3e"
      },
      "execution_count": 2,
      "outputs": []
    },
    {
      "cell_type": "code",
      "source": [
        "# Geração aleatória de um indivíduo (solução)\n",
        "def generate_individual(dimensions, limits):\n",
        "  individuals= []\n",
        "  for _ in range(dimensions):\n",
        "     value = random.uniform(limits[0], limits[1])\n",
        "     individuals.append(value)\n",
        "  return individuals"
      ],
      "metadata": {
        "id": "ceK5vAUsaDVs"
      },
      "execution_count": 3,
      "outputs": []
    },
    {
      "cell_type": "code",
      "source": [
        "# Geração inicial da população\n",
        "def generate_population(size, limits, dimensions):\n",
        "    population= []\n",
        "    for _ in range(size):\n",
        "      individuals_generated = generate_individual(limits, dimensions)\n",
        "      population.append(individuals_generated)\n",
        "    return population"
      ],
      "metadata": {
        "id": "o9EsGZR3y4g7"
      },
      "execution_count": 4,
      "outputs": []
    },
    {
      "cell_type": "code",
      "source": [
        "# Seleção por proporcionalidade ao fitness (roleta)\n",
        "def roulette_wheel_selection(fitness, population):\n",
        "    total_fitness = sum(fitness)\n",
        "    pick = random.uniform(0, total_fitness)\n",
        "    current = 0\n",
        "    for i, fitness in enumerate(fitness):\n",
        "        current += fitness\n",
        "        if current > pick:\n",
        "            return population[i]\n"
      ],
      "metadata": {
        "id": "5eHKURBnIZVe"
      },
      "execution_count": 5,
      "outputs": []
    },
    {
      "cell_type": "code",
      "source": [
        "#seleção por torneio\n",
        "def tournament_selection(population, fitness, k=3):\n",
        "    participants = random.sample(range(len(population)), k)\n",
        "    winner = participants[0]\n",
        "    for i in participants:\n",
        "        if fitness[i] < fitness[winner]:\n",
        "            winner = i\n",
        "\n",
        "    return population[winner]"
      ],
      "metadata": {
        "id": "ZPwBOddkns1h"
      },
      "execution_count": 6,
      "outputs": []
    },
    {
      "cell_type": "code",
      "source": [
        "def one_point_crossover(parent1, parent2):\n",
        "    point = random.randint(1, len(parent1) - 1)\n",
        "    child1 = parent1[:point] + parent2[point:]\n",
        "    child2 = parent2[:point] + parent1[point:]\n",
        "    return child1, child2"
      ],
      "metadata": {
        "id": "5E6fr2qErxt9"
      },
      "execution_count": 7,
      "outputs": []
    },
    {
      "cell_type": "code",
      "source": [
        "def two_point_crossover(parent1, parent2):\n",
        "    point1, point2 = sorted(random.sample(range(len(parent1)), 2))\n",
        "    child1 = parent1[:point1] + parent2[point1:point2] + parent1[point2:]\n",
        "    child2 = parent2[:point1] + parent1[point1:point2] + parent2[point2:]\n",
        "    return child1, child2"
      ],
      "metadata": {
        "id": "V4_UALi_r_4C"
      },
      "execution_count": 8,
      "outputs": []
    },
    {
      "cell_type": "code",
      "source": [
        "# Mutação\n",
        "def mutation(individual, mutation_rate, limits):\n",
        "    for i in range(len(individual)):\n",
        "        if random.random() < mutation_rate:\n",
        "            individual[i] = random.uniform(limits[0], limits[1])"
      ],
      "metadata": {
        "id": "MfVzxIkasB-h"
      },
      "execution_count": 9,
      "outputs": []
    },
    {
      "cell_type": "code",
      "source": [
        "#criação do algorítmo genético\n",
        "def genetic_algorithm(objective_function, dimensions, limits, population_size=30, generations=20,\n",
        "                       crossover_rate=0.8, mutation_rate=0.01, selection_method=\"roulette_wheel\", crossover_method=\"one_point\"):\n",
        "\n",
        "    population = generate_population(dimensions, population_size, limits)\n",
        "\n",
        "    for generation in range(generations):\n",
        "        fitnesses = [objective_function(individual) for individual in population]\n",
        "\n",
        "        new_population = []\n",
        "\n",
        "        while len(new_population) < population_size:\n",
        "            # Seleção dos pais\n",
        "            if selection_method == \"roulette_wheel\":\n",
        "                parent1 = roulette_wheel_selection(population, fitnesses)\n",
        "                parent2 = roulette_wheel_selection(population, fitnesses)\n",
        "            elif selection_method == \"tournament\":\n",
        "                parent1 = tournament_selection(population, fitnesses)\n",
        "                parent2 = tournament_selection(population, fitnesses)\n",
        "\n",
        "            # Cruzamento\n",
        "            if random.random() < crossover_rate:\n",
        "                if crossover_method == \"one_point\":\n",
        "                    child1, child2 = one_point_crossover(parent1, parent2)\n",
        "                elif crossover_method == \"two_point\":\n",
        "                    child1, child2 = two_point_crossover(parent1, parent2)\n",
        "            else:\n",
        "                # Se não ocorrer cruzamento, os filhos são cópias dos pais\n",
        "                child1, child2 = parent1[:], parent2[:]\n",
        "\n",
        "            # Mutação\n",
        "            mutation(child1, mutation_rate, limits)\n",
        "            mutation(child2, mutation_rate, limits)\n",
        "\n",
        "            # Adiciona os filhos na nova população\n",
        "            new_population.append(child1)\n",
        "            if len(new_population) < population_size:\n",
        "                new_population.append(child2)\n",
        "\n",
        "        population = new_population\n",
        "\n",
        "        # Melhor solução da geração atual\n",
        "        fitnesses = [objective_function(individual) for individual in population]\n",
        "        best_fitness = min(fitnesses)\n",
        "        print(f\"Geração {generation+1}: Melhor Fitness = {best_fitness}\")\n",
        "\n",
        "    # Melhor solução encontrada\n",
        "    fitnesses = [objective_function(individual) for individual in population]\n",
        "    survivor = population[np.argmin(fitnesses)]\n",
        "\n",
        "    return survivor, min(fitnesses)"
      ],
      "metadata": {
        "id": "dYsV-YW6t_01"
      },
      "execution_count": 10,
      "outputs": []
    },
    {
      "cell_type": "code",
      "source": [
        "# Parâmetros\n",
        "dimensions = 30\n",
        "population = 30\n",
        "generations = 20\n",
        "crossover_rate = 0.8\n",
        "mutation_rate = 0.01\n",
        "\n",
        "# Definir limites de cada função\n",
        "limits = {\n",
        "    'sphere': (-100, 100),\n",
        "    'rastrigin': (-30, 30),\n",
        "    'rosenbrock': (-5.12, 5.12)\n",
        "}\n",
        "\n",
        "# Executar o algoritmo genético para uma função escolhida\n",
        "def execute_genetic_algorithm(function, function_name):\n",
        "    print(f\"{function_name.capitalize()} Function:\")\n",
        "    best_solution, best_fitness = genetic_algorithm(function, dimensions, limits[function_name], population, generations, crossover_rate, mutation_rate, \"tournament\", \"two_point\")\n",
        "    print(f\"Melhor solução {function_name.capitalize()}: {best_solution}\\nFitness: {best_fitness}\\n\")\n",
        "\n",
        "# Executar para Sphere\n",
        "execute_genetic_algorithm(sphere, 'sphere')\n",
        "\n",
        "# Executar para Rastrigin\n",
        "execute_genetic_algorithm(rastrigin, 'rastrigin')\n",
        "\n",
        "# Executar para Rosenbrock\n",
        "execute_genetic_algorithm(rosenbrock, 'rosenbrock')"
      ],
      "metadata": {
        "colab": {
          "base_uri": "https://localhost:8080/"
        },
        "id": "lTaaaR7mxTM3",
        "outputId": "0960bad8-886e-42bd-8abd-91d1c452b4aa"
      },
      "execution_count": 13,
      "outputs": [
        {
          "output_type": "stream",
          "name": "stdout",
          "text": [
            "Sphere Function:\n",
            "Geração 1: Melhor Fitness = 61340.99188359384\n",
            "Geração 2: Melhor Fitness = 55491.75381745278\n",
            "Geração 3: Melhor Fitness = 47325.29108178097\n",
            "Geração 4: Melhor Fitness = 44934.9723483394\n",
            "Geração 5: Melhor Fitness = 44555.31875865474\n",
            "Geração 6: Melhor Fitness = 44555.31875865474\n",
            "Geração 7: Melhor Fitness = 40821.13139333057\n",
            "Geração 8: Melhor Fitness = 37025.80329735024\n",
            "Geração 9: Melhor Fitness = 35301.37423165723\n",
            "Geração 10: Melhor Fitness = 34971.4412716195\n",
            "Geração 11: Melhor Fitness = 32436.19139553017\n",
            "Geração 12: Melhor Fitness = 30024.643763753702\n",
            "Geração 13: Melhor Fitness = 29290.874510146634\n",
            "Geração 14: Melhor Fitness = 28356.20268110762\n",
            "Geração 15: Melhor Fitness = 27282.494673064633\n",
            "Geração 16: Melhor Fitness = 27282.494673064633\n",
            "Geração 17: Melhor Fitness = 27282.494673064633\n",
            "Geração 18: Melhor Fitness = 26289.303777079986\n",
            "Geração 19: Melhor Fitness = 24769.21862818728\n",
            "Geração 20: Melhor Fitness = 26205.429960806177\n",
            "Melhor solução Sphere: [-2.2410970363354608, 32.99171839815952, 2.171540095326094, 42.11821073718335, 28.39554385569508, -36.013755415851676, 10.58318453061267, 65.69432511882309, 25.618126084101107, 22.32601037175013, -49.07646385007472, -66.95435112042398, -30.036010152339614, 24.625762672595883, 19.603421609236065, -2.3161072599317407, -34.47236781656764, -11.704175517672127, -1.0375903656022274, -14.308749143593971, -12.690020359426185, -24.552068175653716, 0.9336793865646058, -25.099537314180736, -29.446627393247397, -17.715444037574542, -33.63277673849028, 21.738349588680776, 9.791626885600607, 32.42672756887174]\n",
            "Fitness: 26205.429960806177\n",
            "\n",
            "Rastrigin Function:\n",
            "Geração 1: Melhor Fitness = 5921.460389839115\n",
            "Geração 2: Melhor Fitness = 4734.444860063192\n",
            "Geração 3: Melhor Fitness = 3394.9849613266215\n",
            "Geração 4: Melhor Fitness = 3412.888626768132\n",
            "Geração 5: Melhor Fitness = 3412.888626768132\n",
            "Geração 6: Melhor Fitness = 3245.082919711217\n",
            "Geração 7: Melhor Fitness = 3025.1122932517774\n",
            "Geração 8: Melhor Fitness = 2911.259255352533\n",
            "Geração 9: Melhor Fitness = 2893.355589911022\n",
            "Geração 10: Melhor Fitness = 2640.875210022282\n",
            "Geração 11: Melhor Fitness = 2640.875210022282\n",
            "Geração 12: Melhor Fitness = 2416.0661804132883\n",
            "Geração 13: Melhor Fitness = 2343.963695961218\n",
            "Geração 14: Melhor Fitness = 2277.1095243524355\n",
            "Geração 15: Melhor Fitness = 1977.0179211482389\n",
            "Geração 16: Melhor Fitness = 1977.0179211482389\n",
            "Geração 17: Melhor Fitness = 1959.1142557067285\n",
            "Geração 18: Melhor Fitness = 1959.1142557067285\n",
            "Geração 19: Melhor Fitness = 1959.1142557067285\n",
            "Geração 20: Melhor Fitness = 1807.8659037708949\n",
            "Melhor solução Rastrigin: [4.817894798636914, 5.812722698163242, 4.926023347918736, -6.399926192374451, -1.7799579319830556, -11.349341540038168, 9.308835750451586, 4.537802085209897, 9.256695922468602, -7.997784067805988, 1.2353536933509979, -6.918160415405701, 8.310220473605007, -5.158160870489709, -0.40735545205551915, 2.953952524436943, -16.355032983116136, -4.723865632233878, 10.431671046747375, 7.886876129063076, -6.808667439981139, -10.33146013897695, 5.475284984065013, 4.92254948417375, 11.087049488679355, -7.33473129553672, 4.9232589859989275, -4.142741988651636, -8.509342476290488, 9.559627682667994]\n",
            "Fitness: 1807.8659037708949\n",
            "\n",
            "Rosenbrock Function:\n",
            "Geração 1: Melhor Fitness = 217843.699274093\n",
            "Geração 2: Melhor Fitness = 172604.5609258203\n",
            "Geração 3: Melhor Fitness = 136231.88087299193\n",
            "Geração 4: Melhor Fitness = 132866.44887371082\n",
            "Geração 5: Melhor Fitness = 116074.80186095502\n",
            "Geração 6: Melhor Fitness = 80757.04978367826\n",
            "Geração 7: Melhor Fitness = 80757.04978367826\n",
            "Geração 8: Melhor Fitness = 62009.58732881274\n",
            "Geração 9: Melhor Fitness = 48186.766358559486\n",
            "Geração 10: Melhor Fitness = 48711.18338805496\n",
            "Geração 11: Melhor Fitness = 41019.13043231469\n",
            "Geração 12: Melhor Fitness = 41019.13043231469\n",
            "Geração 13: Melhor Fitness = 39974.332148557645\n",
            "Geração 14: Melhor Fitness = 39095.77879826209\n",
            "Geração 15: Melhor Fitness = 39559.91320738991\n",
            "Geração 16: Melhor Fitness = 31867.860251649632\n",
            "Geração 17: Melhor Fitness = 31867.860251649632\n",
            "Geração 18: Melhor Fitness = 28974.888225057875\n",
            "Geração 19: Melhor Fitness = 28812.46471000436\n",
            "Geração 20: Melhor Fitness = 28812.46471000436\n",
            "Melhor solução Rosenbrock: [1.384389801749153, -3.188274271262019, 1.7214159303357963, -0.9242778494222375, -0.9923163409203486, -1.7059243781177988, 0.8261109056804994, -0.3111264023938318, -0.727252139640095, 0.5598867202811757, 0.9013351494136517, 1.8509326801779835, 1.1599233540394138, 0.37590506977917926, 1.4683582605618213, 1.0547514535388078, -0.7860680375194162, -1.0278116087163207, 0.6387890612493905, 0.14146074074987602, -1.473311345871822, 0.4830976868850776, -1.0265815422715034, 1.0501805262839925, -1.4814707527924758, 1.8244286925169044, -0.42196827367576617, -1.7635942636679895, -3.4345828337142725, 3.6189792120507667]\n",
            "Fitness: 28812.46471000436\n",
            "\n"
          ]
        }
      ]
    }
  ]
}